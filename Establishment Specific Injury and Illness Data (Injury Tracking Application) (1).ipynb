{
 "cells": [
  {
   "cell_type": "markdown",
   "id": "317a90b4",
   "metadata": {},
   "source": [
    "You can read about dataset and download it [here](https://www.osha.gov/Establishment-Specific-Injury-and-Illness-Data).\n",
    "\n",
    "Let's import standard packages:"
   ]
  },
  {
   "cell_type": "code",
   "execution_count": 1,
   "id": "17b25273",
   "metadata": {},
   "outputs": [],
   "source": [
    "import pandas as pd\n",
    "import numpy as np\n",
    "import matplotlib.pyplot as plt\n",
    "import os\n",
    "import ipywidgets as widgets\n",
    "from IPython.display import display"
   ]
  },
  {
   "cell_type": "code",
   "execution_count": 2,
   "id": "b0e67ffd",
   "metadata": {},
   "outputs": [],
   "source": [
    "from constants import INSPECTION_DETAILS_FOLDER_NAME, MAPPING_FILES_FOLDER_NAME, ALL, STATE_NAMES, TWO_DIGIT_NAICS\n",
    "from helpers import get_naics_sector_numbers_by_names\n",
    "from scrapping_inspection_details import parse_inspection_file, Inspection, get_inspection_details_list"
   ]
  },
  {
   "cell_type": "markdown",
   "id": "a9a9e748",
   "metadata": {},
   "source": [
    "Below is dictionary with file names and corresponding encoding, used during reading of files. File names for most years are commented because we're interested only in three latest years."
   ]
  },
  {
   "cell_type": "code",
   "execution_count": 3,
   "id": "aa5c05f1",
   "metadata": {},
   "outputs": [],
   "source": [
    "FILE_NAMES_ENCODING = {\n",
    "#     'ITA Data CY 2016.zip': 'cp1252',\n",
    "#     'ITA Data CY 2017.zip': 'cp1252',\n",
    "#     'ITA Data CY 2018.zip': 'cp1252',\n",
    "#     'ITA Data CY 2019.zip': 'utf-8',\n",
    "    'ITA Data CY 2020.zip': 'utf-8',\n",
    "    'ITA Data CY 2021 submitted thru 8-29-2022.zip': 'utf-8',\n",
    "}\n",
    "OWNERSHIP_MAP = {\n",
    "    'Not a government entity': 1,\n",
    "    'State Government entity': 2,\n",
    "    'Local Government entity': 3,\n",
    "}"
   ]
  },
  {
   "cell_type": "code",
   "execution_count": 4,
   "id": "9aa1afb8",
   "metadata": {},
   "outputs": [],
   "source": [
    "df = pd.concat(list(map(\n",
    "    lambda name: pd.read_csv(name, encoding=FILE_NAMES_ENCODING[name], low_memory=False),\n",
    "    FILE_NAMES_ENCODING.keys()\n",
    ")), ignore_index=True)"
   ]
  },
  {
   "cell_type": "markdown",
   "id": "0d7f2c09",
   "metadata": {},
   "source": [
    "Let's delete columns we don't need, delete rows with empty column **year_filing_for**, and reindex dataframe:"
   ]
  },
  {
   "cell_type": "code",
   "execution_count": 5,
   "id": "ff611a88",
   "metadata": {},
   "outputs": [
    {
     "data": {
      "text/html": [
       "<div>\n",
       "<style scoped>\n",
       "    .dataframe tbody tr th:only-of-type {\n",
       "        vertical-align: middle;\n",
       "    }\n",
       "\n",
       "    .dataframe tbody tr th {\n",
       "        vertical-align: top;\n",
       "    }\n",
       "\n",
       "    .dataframe thead th {\n",
       "        text-align: right;\n",
       "    }\n",
       "</style>\n",
       "<table border=\"1\" class=\"dataframe\">\n",
       "  <thead>\n",
       "    <tr style=\"text-align: right;\">\n",
       "      <th></th>\n",
       "      <th>company_name</th>\n",
       "      <th>establishment_name</th>\n",
       "      <th>ein</th>\n",
       "      <th>city</th>\n",
       "      <th>state</th>\n",
       "      <th>naics_code</th>\n",
       "      <th>industry_description</th>\n",
       "      <th>annual_average_employees</th>\n",
       "      <th>total_hours_worked</th>\n",
       "      <th>total_deaths</th>\n",
       "      <th>total_dafw_cases</th>\n",
       "      <th>total_djtr_cases</th>\n",
       "      <th>total_dafw_days</th>\n",
       "      <th>total_djtr_days</th>\n",
       "      <th>total_injuries</th>\n",
       "      <th>establishment_id</th>\n",
       "      <th>establishment_type</th>\n",
       "      <th>size</th>\n",
       "      <th>year_filing_for</th>\n",
       "    </tr>\n",
       "  </thead>\n",
       "  <tbody>\n",
       "    <tr>\n",
       "      <th>0</th>\n",
       "      <td>CCL Tube (Wilkes-Barre), Inc.</td>\n",
       "      <td>CCL Tube</td>\n",
       "      <td>NaN</td>\n",
       "      <td>Wilkes Barre</td>\n",
       "      <td>PA</td>\n",
       "      <td>561910</td>\n",
       "      <td>Labeling services</td>\n",
       "      <td>185.0</td>\n",
       "      <td>386835.0</td>\n",
       "      <td>0.0</td>\n",
       "      <td>0.0</td>\n",
       "      <td>2.0</td>\n",
       "      <td>0.0</td>\n",
       "      <td>49.0</td>\n",
       "      <td>4.0</td>\n",
       "      <td>93030.0</td>\n",
       "      <td>1.0</td>\n",
       "      <td>2.0</td>\n",
       "      <td>2020.0</td>\n",
       "    </tr>\n",
       "    <tr>\n",
       "      <th>1</th>\n",
       "      <td>Del-Co Water Company, Inc.</td>\n",
       "      <td>All Locations</td>\n",
       "      <td>310749383.0</td>\n",
       "      <td>Delaware</td>\n",
       "      <td>OH</td>\n",
       "      <td>221310</td>\n",
       "      <td>Water treatment and distribution</td>\n",
       "      <td>104.0</td>\n",
       "      <td>216320.0</td>\n",
       "      <td>0.0</td>\n",
       "      <td>2.0</td>\n",
       "      <td>0.0</td>\n",
       "      <td>52.0</td>\n",
       "      <td>19.0</td>\n",
       "      <td>2.0</td>\n",
       "      <td>85507.0</td>\n",
       "      <td>1.0</td>\n",
       "      <td>2.0</td>\n",
       "      <td>2020.0</td>\n",
       "    </tr>\n",
       "    <tr>\n",
       "      <th>2</th>\n",
       "      <td>DURATECH INDUSTRIES INTERNATIONAL INC</td>\n",
       "      <td>DURATECH INDUSTRIES INTERNATIONAL INC</td>\n",
       "      <td>450283636.0</td>\n",
       "      <td>JAMESTOWN</td>\n",
       "      <td>ND</td>\n",
       "      <td>333111</td>\n",
       "      <td>Bale throwers manufacturing</td>\n",
       "      <td>87.0</td>\n",
       "      <td>206200.0</td>\n",
       "      <td>0.0</td>\n",
       "      <td>1.0</td>\n",
       "      <td>1.0</td>\n",
       "      <td>17.0</td>\n",
       "      <td>12.0</td>\n",
       "      <td>5.0</td>\n",
       "      <td>649852.0</td>\n",
       "      <td>1.0</td>\n",
       "      <td>2.0</td>\n",
       "      <td>2020.0</td>\n",
       "    </tr>\n",
       "    <tr>\n",
       "      <th>3</th>\n",
       "      <td>Fred Wahl Marine Construction</td>\n",
       "      <td>Fred Wahl Marine Construction</td>\n",
       "      <td>931029886.0</td>\n",
       "      <td>Reedsport</td>\n",
       "      <td>OR</td>\n",
       "      <td>336611</td>\n",
       "      <td>Naval ship building</td>\n",
       "      <td>109.0</td>\n",
       "      <td>215620.0</td>\n",
       "      <td>0.0</td>\n",
       "      <td>6.0</td>\n",
       "      <td>4.0</td>\n",
       "      <td>451.0</td>\n",
       "      <td>46.0</td>\n",
       "      <td>15.0</td>\n",
       "      <td>541133.0</td>\n",
       "      <td>1.0</td>\n",
       "      <td>2.0</td>\n",
       "      <td>2020.0</td>\n",
       "    </tr>\n",
       "    <tr>\n",
       "      <th>4</th>\n",
       "      <td>J.R. Johnson, LLC</td>\n",
       "      <td>J.R. Johnson, LLC</td>\n",
       "      <td>931153731.0</td>\n",
       "      <td>Portland</td>\n",
       "      <td>OR</td>\n",
       "      <td>236116</td>\n",
       "      <td>Construction management, multifamily building</td>\n",
       "      <td>142.0</td>\n",
       "      <td>268700.0</td>\n",
       "      <td>0.0</td>\n",
       "      <td>4.0</td>\n",
       "      <td>2.0</td>\n",
       "      <td>38.0</td>\n",
       "      <td>98.0</td>\n",
       "      <td>15.0</td>\n",
       "      <td>407708.0</td>\n",
       "      <td>1.0</td>\n",
       "      <td>2.0</td>\n",
       "      <td>2020.0</td>\n",
       "    </tr>\n",
       "    <tr>\n",
       "      <th>...</th>\n",
       "      <td>...</td>\n",
       "      <td>...</td>\n",
       "      <td>...</td>\n",
       "      <td>...</td>\n",
       "      <td>...</td>\n",
       "      <td>...</td>\n",
       "      <td>...</td>\n",
       "      <td>...</td>\n",
       "      <td>...</td>\n",
       "      <td>...</td>\n",
       "      <td>...</td>\n",
       "      <td>...</td>\n",
       "      <td>...</td>\n",
       "      <td>...</td>\n",
       "      <td>...</td>\n",
       "      <td>...</td>\n",
       "      <td>...</td>\n",
       "      <td>...</td>\n",
       "      <td>...</td>\n",
       "    </tr>\n",
       "    <tr>\n",
       "      <th>601260</th>\n",
       "      <td>Ruston Glass &amp; Mirror</td>\n",
       "      <td>Ruston Glass &amp; Mirror</td>\n",
       "      <td>720492530.0</td>\n",
       "      <td>Ruston</td>\n",
       "      <td>LA</td>\n",
       "      <td>238150</td>\n",
       "      <td>Curtain wall, glass, installation</td>\n",
       "      <td>31.0</td>\n",
       "      <td>66250.0</td>\n",
       "      <td>0.0</td>\n",
       "      <td>0.0</td>\n",
       "      <td>0.0</td>\n",
       "      <td>0.0</td>\n",
       "      <td>0.0</td>\n",
       "      <td>0.0</td>\n",
       "      <td>904557.0</td>\n",
       "      <td>1.0</td>\n",
       "      <td>2.0</td>\n",
       "      <td>2021.0</td>\n",
       "    </tr>\n",
       "    <tr>\n",
       "      <th>601261</th>\n",
       "      <td>Coteau des Prairies Health Care System</td>\n",
       "      <td>Coteau des Prairies Hospital</td>\n",
       "      <td>460278210.0</td>\n",
       "      <td>Sisseton</td>\n",
       "      <td>SD</td>\n",
       "      <td>622110</td>\n",
       "      <td>Hospitals, general medical and surgical</td>\n",
       "      <td>145.0</td>\n",
       "      <td>295784.0</td>\n",
       "      <td>0.0</td>\n",
       "      <td>0.0</td>\n",
       "      <td>0.0</td>\n",
       "      <td>0.0</td>\n",
       "      <td>0.0</td>\n",
       "      <td>8.0</td>\n",
       "      <td>568448.0</td>\n",
       "      <td>1.0</td>\n",
       "      <td>2.0</td>\n",
       "      <td>2021.0</td>\n",
       "    </tr>\n",
       "    <tr>\n",
       "      <th>601262</th>\n",
       "      <td>Coteau des Prairies Health Care System</td>\n",
       "      <td>Tekakwitha Living Center</td>\n",
       "      <td>411809912.0</td>\n",
       "      <td>Sisseton</td>\n",
       "      <td>SD</td>\n",
       "      <td>623110</td>\n",
       "      <td>Nursing homes</td>\n",
       "      <td>52.0</td>\n",
       "      <td>82300.0</td>\n",
       "      <td>0.0</td>\n",
       "      <td>0.0</td>\n",
       "      <td>0.0</td>\n",
       "      <td>0.0</td>\n",
       "      <td>0.0</td>\n",
       "      <td>0.0</td>\n",
       "      <td>568449.0</td>\n",
       "      <td>1.0</td>\n",
       "      <td>2.0</td>\n",
       "      <td>2021.0</td>\n",
       "    </tr>\n",
       "    <tr>\n",
       "      <th>601263</th>\n",
       "      <td>Heritage of Red Cloud</td>\n",
       "      <td>Heritage of Red Cloud</td>\n",
       "      <td>611815663.0</td>\n",
       "      <td>Red Cloud</td>\n",
       "      <td>NE</td>\n",
       "      <td>623110</td>\n",
       "      <td>Homes for the elderly with nursing care</td>\n",
       "      <td>40.0</td>\n",
       "      <td>80000.0</td>\n",
       "      <td>0.0</td>\n",
       "      <td>0.0</td>\n",
       "      <td>0.0</td>\n",
       "      <td>0.0</td>\n",
       "      <td>0.0</td>\n",
       "      <td>0.0</td>\n",
       "      <td>904560.0</td>\n",
       "      <td>2.0</td>\n",
       "      <td>2.0</td>\n",
       "      <td>2021.0</td>\n",
       "    </tr>\n",
       "    <tr>\n",
       "      <th>601264</th>\n",
       "      <td>Layman Electric Inc</td>\n",
       "      <td>Layman Electric Inc</td>\n",
       "      <td>770050614.0</td>\n",
       "      <td>Modesto</td>\n",
       "      <td>CA</td>\n",
       "      <td>238210</td>\n",
       "      <td>Electrical contractors</td>\n",
       "      <td>48.0</td>\n",
       "      <td>87982.0</td>\n",
       "      <td>0.0</td>\n",
       "      <td>0.0</td>\n",
       "      <td>0.0</td>\n",
       "      <td>0.0</td>\n",
       "      <td>0.0</td>\n",
       "      <td>1.0</td>\n",
       "      <td>309953.0</td>\n",
       "      <td>1.0</td>\n",
       "      <td>2.0</td>\n",
       "      <td>2021.0</td>\n",
       "    </tr>\n",
       "  </tbody>\n",
       "</table>\n",
       "<p>601265 rows × 19 columns</p>\n",
       "</div>"
      ],
      "text/plain": [
       "                                  company_name  \\\n",
       "0                CCL Tube (Wilkes-Barre), Inc.   \n",
       "1                   Del-Co Water Company, Inc.   \n",
       "2        DURATECH INDUSTRIES INTERNATIONAL INC   \n",
       "3                Fred Wahl Marine Construction   \n",
       "4                            J.R. Johnson, LLC   \n",
       "...                                        ...   \n",
       "601260                   Ruston Glass & Mirror   \n",
       "601261  Coteau des Prairies Health Care System   \n",
       "601262  Coteau des Prairies Health Care System   \n",
       "601263                   Heritage of Red Cloud   \n",
       "601264                     Layman Electric Inc   \n",
       "\n",
       "                           establishment_name          ein          city  \\\n",
       "0                                    CCL Tube          NaN  Wilkes Barre   \n",
       "1                              All Locations   310749383.0      Delaware   \n",
       "2       DURATECH INDUSTRIES INTERNATIONAL INC  450283636.0     JAMESTOWN   \n",
       "3               Fred Wahl Marine Construction  931029886.0     Reedsport   \n",
       "4                           J.R. Johnson, LLC  931153731.0      Portland   \n",
       "...                                       ...          ...           ...   \n",
       "601260                  Ruston Glass & Mirror  720492530.0        Ruston   \n",
       "601261           Coteau des Prairies Hospital  460278210.0      Sisseton   \n",
       "601262               Tekakwitha Living Center  411809912.0      Sisseton   \n",
       "601263                  Heritage of Red Cloud  611815663.0     Red Cloud   \n",
       "601264                    Layman Electric Inc  770050614.0       Modesto   \n",
       "\n",
       "       state  naics_code                             industry_description  \\\n",
       "0         PA      561910                               Labeling services    \n",
       "1         OH      221310                Water treatment and distribution    \n",
       "2         ND      333111                     Bale throwers manufacturing    \n",
       "3         OR      336611                             Naval ship building    \n",
       "4         OR      236116   Construction management, multifamily building    \n",
       "...      ...         ...                                              ...   \n",
       "601260    LA      238150               Curtain wall, glass, installation    \n",
       "601261    SD      622110         Hospitals, general medical and surgical    \n",
       "601262    SD      623110                                   Nursing homes    \n",
       "601263    NE      623110         Homes for the elderly with nursing care    \n",
       "601264    CA      238210                          Electrical contractors    \n",
       "\n",
       "        annual_average_employees  total_hours_worked  total_deaths  \\\n",
       "0                          185.0            386835.0           0.0   \n",
       "1                          104.0            216320.0           0.0   \n",
       "2                           87.0            206200.0           0.0   \n",
       "3                          109.0            215620.0           0.0   \n",
       "4                          142.0            268700.0           0.0   \n",
       "...                          ...                 ...           ...   \n",
       "601260                      31.0             66250.0           0.0   \n",
       "601261                     145.0            295784.0           0.0   \n",
       "601262                      52.0             82300.0           0.0   \n",
       "601263                      40.0             80000.0           0.0   \n",
       "601264                      48.0             87982.0           0.0   \n",
       "\n",
       "        total_dafw_cases  total_djtr_cases  total_dafw_days  total_djtr_days  \\\n",
       "0                    0.0               2.0              0.0             49.0   \n",
       "1                    2.0               0.0             52.0             19.0   \n",
       "2                    1.0               1.0             17.0             12.0   \n",
       "3                    6.0               4.0            451.0             46.0   \n",
       "4                    4.0               2.0             38.0             98.0   \n",
       "...                  ...               ...              ...              ...   \n",
       "601260               0.0               0.0              0.0              0.0   \n",
       "601261               0.0               0.0              0.0              0.0   \n",
       "601262               0.0               0.0              0.0              0.0   \n",
       "601263               0.0               0.0              0.0              0.0   \n",
       "601264               0.0               0.0              0.0              0.0   \n",
       "\n",
       "        total_injuries  establishment_id  establishment_type  size  \\\n",
       "0                  4.0           93030.0                 1.0   2.0   \n",
       "1                  2.0           85507.0                 1.0   2.0   \n",
       "2                  5.0          649852.0                 1.0   2.0   \n",
       "3                 15.0          541133.0                 1.0   2.0   \n",
       "4                 15.0          407708.0                 1.0   2.0   \n",
       "...                ...               ...                 ...   ...   \n",
       "601260             0.0          904557.0                 1.0   2.0   \n",
       "601261             8.0          568448.0                 1.0   2.0   \n",
       "601262             0.0          568449.0                 1.0   2.0   \n",
       "601263             0.0          904560.0                 2.0   2.0   \n",
       "601264             1.0          309953.0                 1.0   2.0   \n",
       "\n",
       "        year_filing_for  \n",
       "0                2020.0  \n",
       "1                2020.0  \n",
       "2                2020.0  \n",
       "3                2020.0  \n",
       "4                2020.0  \n",
       "...                 ...  \n",
       "601260           2021.0  \n",
       "601261           2021.0  \n",
       "601262           2021.0  \n",
       "601263           2021.0  \n",
       "601264           2021.0  \n",
       "\n",
       "[601265 rows x 19 columns]"
      ]
     },
     "execution_count": 5,
     "metadata": {},
     "output_type": "execute_result"
    }
   ],
   "source": [
    "df = df.drop(columns=[\n",
    "    'id', # Unique number for each record\n",
    "    'street_address',\n",
    "    'zip_code',\n",
    "    'no_injuries_illnesses', # Whether the establishment had any OSHA recordable work-related injuries or illnesses during the year\n",
    "    'total_other_cases',\n",
    "    'total_skin_disorders',\n",
    "    'total_poisonings',\n",
    "    'total_respiratory_conditions',\n",
    "    'total_hearing_loss',\n",
    "    'total_other_illnesses',\n",
    "    'created_timestamp', # The date and time a record was submitted to the ITA\n",
    "    'change_reason', # The reason why an establishment’s injury and illness summary was changed, if applicable\n",
    "])\n",
    "\n",
    "df = df[~df['year_filing_for'].isna()]\n",
    "df = df[df['annual_average_employees'] < 1000000]\n",
    "df = df[df['total_hours_worked'] >= 0]\n",
    "df = df[df['total_dafw_days'] >= 0]\n",
    "df = df[df['total_djtr_days'] >= 0]\n",
    "df.index = list(range(len(df)))\n",
    "df"
   ]
  },
  {
   "cell_type": "code",
   "execution_count": 6,
   "id": "65c96fa6",
   "metadata": {},
   "outputs": [],
   "source": [
    "def my_plot(selected_states, naics, year, ownership_type, employee_number_range, days_of_job_transfer_or_restriction, total_hours_worked_range, days_away_from_work):\n",
    "    t = df if ALL in selected_states else df[df['state'].isin(selected_states)]\n",
    "    t = t if ALL in naics else t[t['naics_code'].astype(str).str.startswith(tuple(get_naics_sector_numbers_by_names(naics)))]\n",
    "    t = t if ALL in year else t[t['year_filing_for'].isin(year)]\n",
    "    t = t if ALL in ownership_type else t[t['establishment_type'].isin(tuple(map(lambda x: OWNERSHIP_MAP[x], ownership_type)))]\n",
    "    t = t[t['annual_average_employees'].between(employee_number_range[0], employee_number_range[1])]\n",
    "    t = t[t['total_hours_worked'].between(total_hours_worked_range[0], total_hours_worked_range[1])]\n",
    "    t = t[t['total_dafw_days'].between(days_away_from_work[0], days_away_from_work[1])]\n",
    "    input_df = t[t['total_djtr_days'].between(days_of_job_transfer_or_restriction[0], days_of_job_transfer_or_restriction[1])]\n",
    "\n",
    "    grouped_df = input_df.groupby(['company_name', 'year_filing_for'])\\\n",
    "    ['annual_average_employees', 'total_hours_worked', 'total_deaths', 'total_dafw_cases', 'total_djtr_cases', 'total_dafw_days', 'total_djtr_days', 'total_injuries']\\\n",
    "    .agg(sum)\n",
    "    plt.scatter(grouped_df['annual_average_employees'], grouped_df['total_injuries'])\n",
    "    plt.title(\"Linear regression between 'Number of Employees' vs 'Number of Injuries' for 2020 and 2021\")\n",
    "    plt.xlabel('Annual Average Number of Employees, millions')\n",
    "    plt.ylabel('Total number of injuries')\n",
    "\n",
    "    b, a = np.polyfit(grouped_df['annual_average_employees'], grouped_df['total_injuries'], deg=1)\n",
    "    xseq = np.linspace(0, max(grouped_df['annual_average_employees']), num=1000)\n",
    "    plt.plot(xseq, a + b * xseq, color=\"k\", lw=2.5, label='y={:.2f}x+{:.2f}'.format(b,a));\n",
    "    plt.legend(fontsize=9)\n",
    "\n",
    "    plt.grid()\n",
    "    plt.tight_layout()\n",
    "    plt.show()"
   ]
  },
  {
   "cell_type": "code",
   "execution_count": 7,
   "id": "d9de6f25",
   "metadata": {
    "scrolled": false
   },
   "outputs": [
    {
     "data": {
      "application/vnd.jupyter.widget-view+json": {
       "model_id": "15ab5d10afaa43719cb0147aaf61a4a4",
       "version_major": 2,
       "version_minor": 0
      },
      "text/plain": [
       "SelectMultiple(description='State', index=(0,), options=('ALL', 'AL', 'AK', 'AS', 'AZ', 'AR', 'CA', 'CO', 'CT'…"
      ]
     },
     "metadata": {},
     "output_type": "display_data"
    },
    {
     "data": {
      "application/vnd.jupyter.widget-view+json": {
       "model_id": "19cf51d343bf493484b44e7a48037fae",
       "version_major": 2,
       "version_minor": 0
      },
      "text/plain": [
       "SelectMultiple(description='NAICS sector', index=(0,), options=('ALL', 'Utilities', 'Non-classifiable', 'Whole…"
      ]
     },
     "metadata": {},
     "output_type": "display_data"
    },
    {
     "data": {
      "application/vnd.jupyter.widget-view+json": {
       "model_id": "a824b811cee346bc94c1a9b91ae80336",
       "version_major": 2,
       "version_minor": 0
      },
      "text/plain": [
       "SelectMultiple(description='Year', index=(0,), options=('ALL', 2020.0, 2021.0), rows=3, value=('ALL',))"
      ]
     },
     "metadata": {},
     "output_type": "display_data"
    },
    {
     "data": {
      "application/vnd.jupyter.widget-view+json": {
       "model_id": "5b88db6ceed5477ba9ecd7f10e224c82",
       "version_major": 2,
       "version_minor": 0
      },
      "text/plain": [
       "SelectMultiple(description='Ownership', index=(0,), options=('ALL', 'Not a government entity', 'State Governme…"
      ]
     },
     "metadata": {},
     "output_type": "display_data"
    },
    {
     "data": {
      "application/vnd.jupyter.widget-view+json": {
       "model_id": "2426a9891c184a15ab8fb3dac175bac8",
       "version_major": 2,
       "version_minor": 0
      },
      "text/plain": [
       "IntRangeSlider(value=(0, 954471), continuous_update=False, description='Annual Average Number of Employees:', …"
      ]
     },
     "metadata": {},
     "output_type": "display_data"
    },
    {
     "data": {
      "application/vnd.jupyter.widget-view+json": {
       "model_id": "19f18aa49de64cc7a42b163ea708d5a7",
       "version_major": 2,
       "version_minor": 0
      },
      "text/plain": [
       "IntRangeSlider(value=(0, 10506933333), continuous_update=False, description='Total hours worked by all employe…"
      ]
     },
     "metadata": {},
     "output_type": "display_data"
    },
    {
     "data": {
      "application/vnd.jupyter.widget-view+json": {
       "model_id": "cc6aa88b033747a3af851cb2440b8de7",
       "version_major": 2,
       "version_minor": 0
      },
      "text/plain": [
       "IntRangeSlider(value=(0, 1442000), continuous_update=False, description='Days away from work:', max=1442000)"
      ]
     },
     "metadata": {},
     "output_type": "display_data"
    },
    {
     "data": {
      "application/vnd.jupyter.widget-view+json": {
       "model_id": "0bd7a2bcc3b64300ad68854904e821c5",
       "version_major": 2,
       "version_minor": 0
      },
      "text/plain": [
       "IntRangeSlider(value=(0, 1217046), continuous_update=False, description='Days of job transfer or restriction:'…"
      ]
     },
     "metadata": {},
     "output_type": "display_data"
    },
    {
     "data": {
      "application/vnd.jupyter.widget-view+json": {
       "model_id": "ffb6482e66654f20bfdd57939015fc24",
       "version_major": 2,
       "version_minor": 0
      },
      "text/plain": [
       "Output()"
      ]
     },
     "metadata": {},
     "output_type": "display_data"
    },
    {
     "data": {
      "application/vnd.jupyter.widget-view+json": {
       "model_id": "761110d0c249480ba6e88af11cff99ed",
       "version_major": 2,
       "version_minor": 0
      },
      "text/plain": [
       "Button(description='Save as CSV file', icon='check', style=ButtonStyle())"
      ]
     },
     "metadata": {},
     "output_type": "display_data"
    },
    {
     "data": {
      "application/vnd.jupyter.widget-view+json": {
       "model_id": "4278360af4254313a5543b4e60b70fb6",
       "version_major": 2,
       "version_minor": 0
      },
      "text/plain": [
       "Output()"
      ]
     },
     "metadata": {},
     "output_type": "display_data"
    }
   ],
   "source": [
    "t = df.copy(deep=True)\n",
    "state = widgets.SelectMultiple(\n",
    "    options=[ALL] + list(STATE_NAMES.keys()),\n",
    "    value=[ALL],\n",
    "    rows=10,\n",
    "    description='State',\n",
    ")\n",
    "year = widgets.SelectMultiple(\n",
    "    options=[ALL] + list(df['year_filing_for'].unique()),\n",
    "    value=[ALL],\n",
    "    rows=len(df['year_filing_for'].unique()) + 1,\n",
    "    description='Year',\n",
    ")\n",
    "ownership_type = widgets.SelectMultiple(\n",
    "    options=[ALL] + list(OWNERSHIP_MAP.keys()),\n",
    "    value=[ALL],\n",
    "    rows=len(OWNERSHIP_MAP.keys()) + 1,\n",
    "    description='Ownership',\n",
    ")\n",
    "establishment_type = widgets.SelectMultiple(\n",
    "    options=[ALL] + list(df['year_filing_for'].unique()),\n",
    "    value=[ALL],\n",
    "    rows=len(df['year_filing_for'].unique()) + 1,\n",
    "    description='Year',\n",
    ")\n",
    "naics = widgets.SelectMultiple(\n",
    "    options=[ALL] + list(set(TWO_DIGIT_NAICS.values())),\n",
    "    value=[ALL],\n",
    "    rows=10,\n",
    "    description='NAICS sector',\n",
    "    disabled=False\n",
    ")\n",
    "annual_average_employees = widgets.IntRangeSlider(\n",
    "    value=[df['annual_average_employees'].min(), df['annual_average_employees'].max()],\n",
    "    min=df['annual_average_employees'].min(),\n",
    "    max=df['annual_average_employees'].max(),\n",
    "    step=1,\n",
    "    description='Annual Average Number of Employees:',\n",
    "    disabled=False,\n",
    "    continuous_update=False,\n",
    "    readout=True,\n",
    ")\n",
    "total_hours_worked_range = widgets.IntRangeSlider(\n",
    "    value=[df['total_hours_worked'].min(), df['total_hours_worked'].max()],\n",
    "    min=df['total_hours_worked'].min(),\n",
    "    max=df['total_hours_worked'].max(),\n",
    "    step=1,\n",
    "    description='Total hours worked by all employees:',\n",
    "    disabled=False,\n",
    "    continuous_update=False,\n",
    "    readout=True,\n",
    ")\n",
    "days_away_from_work = widgets.IntRangeSlider(\n",
    "    value=[df['total_dafw_days'].min(), df['total_dafw_days'].max()],\n",
    "    min=df['total_dafw_days'].min(),\n",
    "    max=df['total_dafw_days'].max(),\n",
    "    step=1,\n",
    "    description='Days away from work:',\n",
    "    continuous_update=False,\n",
    "    readout=True,\n",
    ")\n",
    "days_of_job_transfer_or_restriction = widgets.IntRangeSlider(\n",
    "    value=[df['total_djtr_days'].min(), df['total_djtr_days'].max()],\n",
    "    min=df['total_djtr_days'].min(),\n",
    "    max=df['total_djtr_days'].max(),\n",
    "    step=1,\n",
    "    description='Days of job transfer or restriction:',\n",
    "    continuous_update=False,\n",
    "    readout=True,\n",
    ")\n",
    "# total_djtr_days Total number of days of job transfer or restriction\n",
    "save_as_csv_button = widgets.Button(\n",
    "    description='Save as CSV file',\n",
    "    disabled=False,\n",
    "    button_style='', # 'success', 'info', 'warning', 'danger' or ''\n",
    "    icon='check'\n",
    ")\n",
    "\n",
    "def my_filter(selected_states, naics, year, ownership_type, employee_number_range, days_of_job_transfer_or_restriction, total_hours_worked_range, days_away_from_work):\n",
    "    t = df if ALL in selected_states else df[df['state'].isin(selected_states)]\n",
    "    t = t if ALL in naics else t[t['naics_code'].astype(str).str.startswith(tuple(get_naics_sector_numbers_by_names(naics)))]\n",
    "    t = t if ALL in year else t[t['year_filing_for'].isin(year)]\n",
    "    t = t if ALL in ownership_type else t[t['establishment_type'].isin(tuple(map(lambda x: OWNERSHIP_MAP[x], ownership_type)))]\n",
    "    t = t[t['annual_average_employees'].between(employee_number_range[0], employee_number_range[1])]\n",
    "    t = t[t['total_hours_worked'].between(total_hours_worked_range[0], total_hours_worked_range[1])]\n",
    "    t = t[t['total_dafw_days'].between(days_away_from_work[0], days_away_from_work[1])]\n",
    "    t = t[t['total_djtr_days'].between(days_of_job_transfer_or_restriction[0], days_of_job_transfer_or_restriction[1])]\n",
    "    display(t)\n",
    "    \n",
    "def save_as_csv(some):\n",
    "    pd.from_csv(table.outputs[0]['data']['text/plain'])\n",
    "    table.outputs[0]['data']['text/plain'].to_csv(f'{pd.to_datetime(\"today\").strftime(\"%Y-%m-%d\")}.csv', index=False)\n",
    "\n",
    "table = widgets.interactive_output(my_filter, {\n",
    "    'selected_states': state,\n",
    "    'naics': naics,\n",
    "    'year': year,\n",
    "    'ownership_type': ownership_type,\n",
    "    'employee_number_range': annual_average_employees,\n",
    "    'total_hours_worked_range': total_hours_worked_range,\n",
    "    'days_away_from_work': days_away_from_work,\n",
    "    'days_of_job_transfer_or_restriction': days_of_job_transfer_or_restriction,\n",
    "})\n",
    "save_as_csv_button.on_click(save_as_csv, False)\n",
    "scatter_plot = widgets.interactive_output(my_plot, {\n",
    "    'selected_states': state,\n",
    "    'naics': naics,\n",
    "    'year': year,\n",
    "    'ownership_type': ownership_type,\n",
    "    'employee_number_range': annual_average_employees,\n",
    "    'total_hours_worked_range': total_hours_worked_range,\n",
    "    'days_away_from_work': days_away_from_work,\n",
    "    'days_of_job_transfer_or_restriction': days_of_job_transfer_or_restriction,\n",
    "})\n",
    "\n",
    "display(state)\n",
    "display(naics)\n",
    "display(year)\n",
    "display(ownership_type)\n",
    "display(annual_average_employees)\n",
    "display(total_hours_worked_range)\n",
    "display(days_away_from_work)\n",
    "display(days_of_job_transfer_or_restriction)\n",
    "display(table)\n",
    "display(save_as_csv_button)\n",
    "display(scatter_plot)"
   ]
  },
  {
   "cell_type": "code",
   "execution_count": 8,
   "id": "ecafa9f8",
   "metadata": {},
   "outputs": [
    {
     "data": {
      "text/plain": [
       "dict_keys(['_is_copy', '_mgr', '_item_cache', '_attrs', '_flags'])"
      ]
     },
     "execution_count": 8,
     "metadata": {},
     "output_type": "execute_result"
    }
   ],
   "source": [
    "df.__dict__.keys()"
   ]
  },
  {
   "cell_type": "code",
   "execution_count": 12,
   "id": "b3210852",
   "metadata": {},
   "outputs": [
    {
     "data": {
      "text/plain": [
       "array([0.000e+00, 2.000e+00, 1.000e+00, 6.000e+00, 4.000e+00, 9.000e+00,\n",
       "       1.100e+01, 3.000e+00, 5.000e+00, 8.000e+00, 1.300e+01, 7.000e+00,\n",
       "       1.000e+01, 4.700e+01, 1.400e+01, 2.100e+01, 1.500e+01, 3.000e+01,\n",
       "       1.200e+01, 1.600e+01, 1.900e+01, 1.700e+01, 4.000e+01, 1.800e+01,\n",
       "       4.400e+01, 6.300e+01, 2.500e+01, 2.200e+01, 2.000e+01, 2.460e+02,\n",
       "       6.000e+01, 2.700e+01, 3.500e+01, 3.400e+01, 8.800e+01, 2.400e+01,\n",
       "       2.900e+01, 4.100e+01, 4.500e+01, 1.760e+02, 3.200e+01, 4.900e+01,\n",
       "       2.800e+01, 3.300e+01, 6.100e+01, 3.050e+02, 3.100e+01, 7.600e+01,\n",
       "       3.900e+01, 5.500e+01, 3.600e+01, 6.200e+01, 6.400e+01, 2.530e+02,\n",
       "       5.800e+01, 6.600e+01, 2.300e+01, 4.600e+01, 5.600e+01, 7.200e+01,\n",
       "       1.120e+02, 5.400e+01, 4.800e+01, 1.930e+02, 4.300e+01, 5.700e+01,\n",
       "       7.000e+01, 6.900e+01, 3.800e+01, 8.000e+01, 4.200e+01, 6.800e+01,\n",
       "       9.500e+01, 1.130e+02, 1.380e+02, 1.030e+02, 1.310e+02, 3.700e+01,\n",
       "       1.040e+02, 5.900e+01, 2.600e+01, 1.890e+02, 1.580e+02, 1.400e+02,\n",
       "       9.100e+01, 7.100e+01, 8.100e+01, 2.760e+02, 5.100e+01, 7.300e+01,\n",
       "       3.500e+02, 1.560e+02, 8.200e+01, 5.120e+02, 3.320e+02, 5.000e+01,\n",
       "       1.070e+02, 1.860e+02, 7.700e+01, 1.020e+02, 9.800e+01, 9.400e+01,\n",
       "       1.510e+02, 1.710e+02, 8.300e+01, 1.720e+02, 1.540e+02, 6.700e+01,\n",
       "       1.290e+02, 2.300e+02, 5.300e+01, 9.900e+01, 1.360e+02, 7.400e+01,\n",
       "       1.110e+02, 7.500e+01, 1.050e+02, 1.500e+02, 1.010e+02, 8.600e+01,\n",
       "       1.780e+02, 2.810e+02, 1.430e+02, 1.060e+02, 8.400e+01, 8.700e+01,\n",
       "       1.670e+02, 9.200e+01, 5.200e+01, 2.150e+02, 9.000e+01, 9.300e+01,\n",
       "       9.700e+01, 6.500e+01, 3.380e+02, 1.270e+02, 1.440e+02, 1.300e+02,\n",
       "       1.630e+02, 1.390e+02, 2.160e+02, 4.540e+02, 1.480e+02, 2.290e+02,\n",
       "       8.900e+01, 1.090e+02, 2.130e+02, 7.800e+01, 1.530e+02, 1.170e+02,\n",
       "       1.190e+02, 1.600e+02, 1.730e+02, 4.980e+02, 1.150e+02, 2.980e+02,\n",
       "       2.820e+02, 2.140e+02, 1.100e+02, 2.970e+02, 2.540e+02, 2.730e+02,\n",
       "       3.010e+02, 1.350e+02, 3.070e+02, 3.120e+02, 1.160e+02, 4.730e+02,\n",
       "       7.900e+01, 2.060e+02, 1.840e+02, 2.110e+02, 1.260e+02, 2.100e+02,\n",
       "       1.220e+02, 2.020e+02, 6.790e+02, 4.340e+02, 1.490e+02, 9.600e+01,\n",
       "       1.280e+02, 5.040e+02, 2.230e+02, 2.050e+02, 2.260e+02, 3.080e+02,\n",
       "       1.000e+02, 1.320e+02, 1.370e+02, 1.410e+02, 4.840e+02, 2.040e+02,\n",
       "       3.110e+02, 1.750e+02, 1.140e+02, 3.700e+02, 1.080e+02, 1.960e+02,\n",
       "       1.460e+02, 2.710e+02, 1.180e+02, 2.840e+02, 1.590e+02, 2.000e+02,\n",
       "       1.054e+03, 1.470e+02, 2.220e+02, 2.800e+02, 5.100e+02, 1.340e+02,\n",
       "       1.740e+02, 5.680e+02, 2.830e+02, 3.680e+02, 2.190e+02, 1.550e+02,\n",
       "       1.910e+02, 1.770e+02, 2.210e+02, 4.380e+02, 2.430e+02, 1.200e+02,\n",
       "       1.690e+02, 5.380e+02, 3.970e+02, 1.210e+02, 4.260e+02, 8.500e+01,\n",
       "       2.570e+02, 3.910e+02, 1.880e+02, 1.650e+02, 3.630e+02, 1.790e+02,\n",
       "       1.700e+02, 3.860e+02, 5.580e+02, 2.940e+02, 2.270e+02, 2.630e+02,\n",
       "       2.470e+02, 7.200e+02, 3.540e+02, 2.720e+02, 2.650e+02, 1.230e+02,\n",
       "       3.170e+02, 5.980e+02, 4.860e+02, 2.960e+02, 1.610e+02, 2.390e+02,\n",
       "       1.820e+02, 3.370e+02, 2.080e+02, 8.550e+02, 1.250e+02, 1.620e+02,\n",
       "       1.800e+02, 1.950e+02, 3.000e+02, 3.640e+02, 7.270e+02, 2.640e+02,\n",
       "       6.820e+02, 1.640e+02, 8.890e+02, 2.580e+02, 2.330e+02, 2.620e+02,\n",
       "       1.520e+02, 3.310e+02, 2.370e+02, 1.330e+02, 2.440e+02, 2.670e+02,\n",
       "       5.740e+02, 2.890e+02, 1.810e+02, 1.570e+02, 1.240e+02, 2.740e+02,\n",
       "       3.210e+02, 2.250e+02, 2.780e+02, 1.632e+03, 5.670e+02, 9.710e+02,\n",
       "       7.850e+02, 5.430e+02, 1.143e+03, 2.860e+02, 3.620e+02, 2.510e+02,\n",
       "       3.160e+02, 4.650e+02, 3.240e+02, 7.950e+02, 3.550e+02, 1.970e+02,\n",
       "       2.900e+02, 5.130e+02, 7.590e+02, 3.890e+02, 1.660e+02, 5.520e+02,\n",
       "       2.320e+02, 3.570e+02, 6.240e+02, 1.990e+02, 5.510e+02, 3.200e+02,\n",
       "       2.030e+02, 2.490e+02, 4.040e+02, 2.990e+02, 2.240e+02, 3.710e+02,\n",
       "       2.450e+02, 4.430e+02, 3.090e+02, 2.550e+02, 1.450e+02, 6.700e+02,\n",
       "       2.480e+02, 2.410e+02, 4.770e+02, 2.590e+02, 2.920e+02, 1.850e+02,\n",
       "       2.010e+02, 5.200e+02, 7.560e+02, 3.990e+02, 2.790e+02, 6.190e+02,\n",
       "       4.440e+02, 3.740e+02, 3.140e+02, 3.350e+02, 2.850e+02, 3.730e+02,\n",
       "       3.830e+02, 4.910e+02, 1.680e+02, 3.280e+02, 6.270e+02, 9.370e+02,\n",
       "       5.160e+02, 2.930e+02, 2.340e+02, 2.500e+02, 2.180e+02, 2.310e+02,\n",
       "       4.470e+02, 3.130e+02, 5.460e+02, 6.110e+02, 6.250e+02, 2.520e+02,\n",
       "       2.380e+02, 2.120e+02, 5.880e+02, 7.610e+02, 1.420e+02, 2.170e+02,\n",
       "       5.440e+02, 5.210e+02, 5.640e+02, 3.060e+02, 6.260e+02])"
      ]
     },
     "execution_count": 12,
     "metadata": {},
     "output_type": "execute_result"
    }
   ],
   "source": [
    "df['total_dafw_cases'].unique()"
   ]
  },
  {
   "cell_type": "code",
   "execution_count": 10,
   "id": "b74174cd",
   "metadata": {},
   "outputs": [
    {
     "name": "stderr",
     "output_type": "stream",
     "text": [
      "/tmp/ipykernel_44774/198286160.py:1: FutureWarning: Indexing with multiple keys (implicitly converted to a tuple of keys) will be deprecated, use a list instead.\n",
      "  grouped_df = df.groupby(['company_name', 'year_filing_for'])\\\n"
     ]
    }
   ],
   "source": [
    "grouped_df = df.groupby(['company_name', 'year_filing_for'])\\\n",
    "['annual_average_employees', 'total_hours_worked', 'total_deaths', 'total_dafw_cases', 'total_djtr_cases', 'total_dafw_days', 'total_djtr_days', 'total_injuries']\\\n",
    ".agg(sum)"
   ]
  },
  {
   "cell_type": "code",
   "execution_count": null,
   "id": "a73bfe35",
   "metadata": {},
   "outputs": [],
   "source": [
    "[state-filter, year-filter, ownership-filter, naics-filter, days_away_from_work-filter, total_hours_worked-filter, annual_average_employees-filter, days_of_job_transfer_or_restriction-filter, total_deaths-filter, total_dafw_cases-filter, total_djtr_cases-filter, total_injuries-filter]"
   ]
  },
  {
   "cell_type": "code",
   "execution_count": null,
   "id": "c5e42c4a",
   "metadata": {},
   "outputs": [],
   "source": [
    "[\"Days away from work\", \"Total hours worked\", \"Annual average employees\", \"Days of job transfer or restriction\", \"Total Deaths\", \"Cases with days away from work\", \"Cases with job transfer or restriction\", \"Number of injuries\"]\n"
   ]
  },
  {
   "cell_type": "code",
   "execution_count": 14,
   "id": "edabc539",
   "metadata": {},
   "outputs": [],
   "source": [
    "QUANTITATIVE_VALUES  = {\n",
    "    \"Days away from work\": \"total_dafw_days\",\n",
    "    \"Total hours worked\": \"total_hours_worked\",\n",
    "    \"Annual average employees\": \"annual_average_employees\",\n",
    "    \"Days of job transfer or restriction\": \"total_djtr_days\",\n",
    "    \"Total Deaths\": \"total_deaths\",\n",
    "    \"Cases with days away from work\": \"total_dafw_cases\",\n",
    "    \"Cases with job transfer or restriction\": \"total_djtr_cases\",\n",
    "    \"Number of injuries\": \"total_injuries\",\n",
    "}"
   ]
  },
  {
   "cell_type": "code",
   "execution_count": 17,
   "id": "4ddd6eb5",
   "metadata": {},
   "outputs": [
    {
     "data": {
      "text/plain": [
       "'Days away from work'"
      ]
     },
     "execution_count": 17,
     "metadata": {},
     "output_type": "execute_result"
    }
   ],
   "source": [
    "list(QUANTITATIVE_VALUES.keys())[0]"
   ]
  }
 ],
 "metadata": {
  "kernelspec": {
   "display_name": "Python 3 (ipykernel)",
   "language": "python",
   "name": "python3"
  },
  "language_info": {
   "codemirror_mode": {
    "name": "ipython",
    "version": 3
   },
   "file_extension": ".py",
   "mimetype": "text/x-python",
   "name": "python",
   "nbconvert_exporter": "python",
   "pygments_lexer": "ipython3",
   "version": "3.8.10"
  },
  "vscode": {
   "interpreter": {
    "hash": "916dbcbb3f70747c44a77c7bcd40155683ae19c65e1c03b4aa3499c5328201f1"
   }
  }
 },
 "nbformat": 4,
 "nbformat_minor": 5
}
